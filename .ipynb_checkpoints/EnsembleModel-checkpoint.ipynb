{
 "cells": [
  {
   "cell_type": "code",
   "execution_count": 70,
   "id": "82c36f0c-fde4-4982-8175-67fcc71054ae",
   "metadata": {},
   "outputs": [],
   "source": [
    "from pycaret.classification import load_model\n",
    "import numpy as np\n",
    "import pandas as pd\n",
    "from sklearn.metrics import f1_score\n"
   ]
  },
  {
   "cell_type": "code",
   "execution_count": 56,
   "id": "6eb11d72-1140-4588-8e57-cef4ddac22df",
   "metadata": {},
   "outputs": [],
   "source": [
    "test_gu = ['동작구', '구로구']\n",
    "df = pd.read_csv(\"seoul_preprocessed.csv\")\n",
    "test_df  = df[df['SIG_KOR_NM'].isin(test_gu)]"
   ]
  },
  {
   "cell_type": "code",
   "execution_count": 57,
   "id": "4669354d-844f-4b7a-acf1-9abc4288773d",
   "metadata": {},
   "outputs": [
    {
     "name": "stdout",
     "output_type": "stream",
     "text": [
      "가운데 구간 끝값: 2\n",
      "\n",
      "       tow_count  risk_level\n",
      "16209          0           0\n",
      "16210          0           0\n",
      "16211          0           0\n",
      "16212          0           0\n",
      "16213          0           0\n"
     ]
    }
   ],
   "source": [
    "# test를 제외한 데이터로 risk level 추출\n",
    "df_nonzero = df[~df['SIG_KOR_NM'].isin(test_gu)]\n",
    "df_nonzero = df_nonzero[df_nonzero['tow_count'] > 0]\n",
    "\n",
    "# `tow_count` 값으로 정렬\n",
    "df_nonzero = df_nonzero.sort_values(by='tow_count')\n",
    "\n",
    "# 0을 제외한 데이터\n",
    "total_nonzero = len(df_nonzero)\n",
    "\n",
    "mid_end = int(total_nonzero*1/2) # 절반\n",
    "\n",
    "# 각 구간 끝값 (경계)\n",
    "mid_end_value = df_nonzero.iloc[mid_end - 1]['tow_count']  # 가운데 구간 끝값\n",
    "\n",
    "print(f\"가운데 구간 끝값: {mid_end_value}\\n\")\n",
    "\n",
    "test_df['risk_level'] = test_df['tow_count'].apply(\n",
    "    lambda x: 0 if x == 0 else (1 if x <= mid_end_value else 2)\n",
    ")\n",
    "\n",
    "# 결과 확인\n",
    "print(test_df[['tow_count', 'risk_level']].tail())"
   ]
  },
  {
   "cell_type": "code",
   "execution_count": 60,
   "id": "a641e585-a1b8-44f9-8eac-8edca4ca2d96",
   "metadata": {},
   "outputs": [],
   "source": [
    "features = test_df.columns[3:-2]\n",
    "target = 'risk_level'\n",
    "del test_df['tow_count']\n",
    "X_test, y_test   = test_df[features], test_df[target]"
   ]
  },
  {
   "cell_type": "code",
   "execution_count": 64,
   "id": "492ce025-24a7-4ece-b2a6-16c95dc05505",
   "metadata": {},
   "outputs": [
    {
     "name": "stdout",
     "output_type": "stream",
     "text": [
      "Transformation Pipeline and Model Successfully Loaded\n",
      "Transformation Pipeline and Model Successfully Loaded\n",
      "Transformation Pipeline and Model Successfully Loaded\n",
      "Transformation Pipeline and Model Successfully Loaded\n"
     ]
    }
   ],
   "source": [
    "model1 = load_model('domain_specific_model_1')\n",
    "model2 = load_model('domain_specific_model_2')\n",
    "model3 = load_model('domain_specific_model_3')\n",
    "model4 = load_model('domain_specific_model_4')"
   ]
  },
  {
   "cell_type": "code",
   "execution_count": 66,
   "id": "a7f6d2ed-6c00-4746-80a2-6dbf051d8449",
   "metadata": {},
   "outputs": [
    {
     "name": "stdout",
     "output_type": "stream",
     "text": [
      "[LightGBM] [Warning] feature_fraction is set=0.7, colsample_bytree=1.0 will be ignored. Current value: feature_fraction=0.7\n",
      "[LightGBM] [Warning] bagging_fraction is set=0.6, subsample=1.0 will be ignored. Current value: bagging_fraction=0.6\n",
      "[LightGBM] [Warning] bagging_freq is set=3, subsample_freq=0 will be ignored. Current value: bagging_freq=3\n",
      "[LightGBM] [Warning] feature_fraction is set=0.7, colsample_bytree=1.0 will be ignored. Current value: feature_fraction=0.7\n",
      "[LightGBM] [Warning] bagging_fraction is set=0.6, subsample=1.0 will be ignored. Current value: bagging_fraction=0.6\n",
      "[LightGBM] [Warning] bagging_freq is set=3, subsample_freq=0 will be ignored. Current value: bagging_freq=3\n",
      "[LightGBM] [Warning] feature_fraction is set=0.8, colsample_bytree=1.0 will be ignored. Current value: feature_fraction=0.8\n",
      "[LightGBM] [Warning] bagging_fraction is set=0.5, subsample=1.0 will be ignored. Current value: bagging_fraction=0.5\n",
      "[LightGBM] [Warning] bagging_freq is set=1, subsample_freq=0 will be ignored. Current value: bagging_freq=1\n",
      "[LightGBM] [Warning] feature_fraction is set=0.8, colsample_bytree=1.0 will be ignored. Current value: feature_fraction=0.8\n",
      "[LightGBM] [Warning] bagging_fraction is set=0.5, subsample=1.0 will be ignored. Current value: bagging_fraction=0.5\n",
      "[LightGBM] [Warning] bagging_freq is set=1, subsample_freq=0 will be ignored. Current value: bagging_freq=1\n"
     ]
    }
   ],
   "source": [
    "pred1 = model1.predict_proba(X_test)\n",
    "pred2 = model2.predict_proba(X_test)\n",
    "pred3 = model3.predict_proba(X_test)\n",
    "pred4 = model4.predict_proba(X_test)"
   ]
  },
  {
   "cell_type": "code",
   "execution_count": 68,
   "id": "89d3625c-f9ce-47aa-9513-304ddee630d8",
   "metadata": {},
   "outputs": [],
   "source": [
    "# 소프트 보팅: 확률 평균\n",
    "ensemble_pred = (pred1 + pred2 + pred3 + pred4) / 4\n",
    "final_preds = np.argmax(ensemble_pred, axis=1)"
   ]
  },
  {
   "cell_type": "code",
   "execution_count": 72,
   "id": "5c1c1aa1-7b8d-4d66-a0da-feb29772e8e3",
   "metadata": {},
   "outputs": [],
   "source": [
    "df_result = pd.DataFrame({\n",
    "    'prediction': final_preds\n",
    "})"
   ]
  },
  {
   "cell_type": "code",
   "execution_count": 86,
   "id": "610911f5-6932-4d88-93a2-960c638c5e2e",
   "metadata": {},
   "outputs": [
    {
     "name": "stdout",
     "output_type": "stream",
     "text": [
      "f1_score: 0.6761\n"
     ]
    }
   ],
   "source": [
    "f1 = f1_score(y_test, final_preds, average =\"weighted\")\n",
    "print(f\"f1_score: {f1:.4f}\")"
   ]
  },
  {
   "cell_type": "code",
   "execution_count": 112,
   "id": "d44d277e-84d8-4d8d-b9fe-9bf8b78ece3f",
   "metadata": {},
   "outputs": [
    {
     "data": {
      "text/plain": [
       "(3229, 27)"
      ]
     },
     "execution_count": 112,
     "metadata": {},
     "output_type": "execute_result"
    }
   ],
   "source": [
    "X_test.shape"
   ]
  },
  {
   "cell_type": "code",
   "execution_count": 122,
   "id": "2e584a0e-dd4d-4596-af7e-41253ac4473d",
   "metadata": {},
   "outputs": [
    {
     "data": {
      "text/plain": [
       "array([9.99146855e-01, 7.07435925e-04, 1.45708763e-04])"
      ]
     },
     "execution_count": 122,
     "metadata": {},
     "output_type": "execute_result"
    }
   ],
   "source": [
    "pred1[0]"
   ]
  },
  {
   "cell_type": "code",
   "execution_count": null,
   "id": "a9884264-9839-4b56-a9c0-37e18c1d9757",
   "metadata": {},
   "outputs": [],
   "source": []
  }
 ],
 "metadata": {
  "kernelspec": {
   "display_name": "Python (pycaret_env)",
   "language": "python",
   "name": "pycaret_env"
  },
  "language_info": {
   "codemirror_mode": {
    "name": "ipython",
    "version": 3
   },
   "file_extension": ".py",
   "mimetype": "text/x-python",
   "name": "python",
   "nbconvert_exporter": "python",
   "pygments_lexer": "ipython3",
   "version": "3.10.16"
  }
 },
 "nbformat": 4,
 "nbformat_minor": 5
}
